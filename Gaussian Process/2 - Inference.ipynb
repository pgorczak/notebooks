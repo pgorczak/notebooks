{
 "cells": [
  {
   "cell_type": "markdown",
   "metadata": {},
   "source": [
    "# Inference in Gaussian processes\n",
    "\n",
    "* [mathematicalmonk on GP inference](https://youtu.be/UH1d2mxwet8)\n",
    "\n",
    "We've seen that a GP is defined by a multivariate normal distribution over *outputs associated with some indices* or *states at some points in time*. Given a number of known states, we can get conditional distributions over one or more unobserved states. We can query the GP for certain indices/times.\n",
    "\n",
    "Let's separate $Z$ into a known part $Z_b$ and unknown part $Za$:\n",
    "\n",
    "$$\n",
    "\\begin{pmatrix}\n",
    "    Z_a \\\\\n",
    "    Z_b\n",
    "\\end{pmatrix}\n",
    "\\sim\n",
    "\\mathcal{N}(\n",
    "    \\begin{pmatrix}\n",
    "        \\mu_a \\\\\n",
    "        \\mu_b\n",
    "    \\end{pmatrix}\n",
    ",\n",
    "    \\begin{pmatrix}\n",
    "        K_{aa} && K_{ab} \\\\\n",
    "        K_{ba} && K_{bb}\n",
    "    \\end{pmatrix}\n",
    ")\n",
    "$$\n",
    "\n",
    "Given some concrete values $Z_b = z_b$, the conditional is another Gaussian:\n",
    "\n",
    "$$\n",
    "(Z_a | Z_b = z_b) \\sim \\mathcal{N}(m, D)\n",
    "$$\n",
    "\n",
    "with\n",
    "\n",
    "$$\n",
    "\\begin{align}\n",
    "m &= \\mu_a + K_{ab}^T K_{bb}^{-1}(z_b - \\mu_b) \\\\\n",
    "D &= K_{aa} - K_{ab} K_{bb}^{-1} K_{ba}\n",
    "\\end{align}\n",
    "$$\n",
    "\n",
    "\n",
    "## Example: polynomials\n",
    "Let's transform our linear kernel into a polynomial kernel. If you want to know more about which transforms are allowed for kernels, there's a [video](https://youtu.be/Sc5hOS5HqdY). In this case, we choose a polynomial with non-negative coefficients. Let's look at some samples."
   ]
  },
  {
   "cell_type": "code",
   "execution_count": null,
   "metadata": {},
   "outputs": [],
   "source": [
    "import numpy as np\n",
    "\n",
    "from utilities import plot_gp\n",
    "\n",
    "def plot_3rd_order_poly_gp(coeffs=np.array([0.1, 0.3, 1, 0])):\n",
    "    t = np.linspace(-5, 5, 10)\n",
    "\n",
    "    k = lambda i, j: np.polynomial.polynomial.polyval(i * j, coeffs)\n",
    "    mu = lambda i: 0\n",
    "    \n",
    "    plot_gp(mu, k, t, (2, 6))\n",
    "    \n",
    "plot_3rd_order_poly_gp()"
   ]
  },
  {
   "cell_type": "markdown",
   "metadata": {},
   "source": [
    "## Noisy observations"
   ]
  },
  {
   "cell_type": "code",
   "execution_count": null,
   "metadata": {},
   "outputs": [],
   "source": [
    "# TODO"
   ]
  },
  {
   "cell_type": "markdown",
   "metadata": {},
   "source": [
    "## Analogy to basis functions"
   ]
  },
  {
   "cell_type": "code",
   "execution_count": null,
   "metadata": {},
   "outputs": [],
   "source": [
    "# TODO"
   ]
  }
 ],
 "metadata": {
  "kernelspec": {
   "display_name": "Python 3",
   "language": "python",
   "name": "python3"
  },
  "language_info": {
   "codemirror_mode": {
    "name": "ipython",
    "version": 3
   },
   "file_extension": ".py",
   "mimetype": "text/x-python",
   "name": "python",
   "nbconvert_exporter": "python",
   "pygments_lexer": "ipython3",
   "version": "3.6.2"
  }
 },
 "nbformat": 4,
 "nbformat_minor": 2
}
