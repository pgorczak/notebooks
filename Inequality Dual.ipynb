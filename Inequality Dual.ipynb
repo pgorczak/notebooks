{
 "cells": [
  {
   "cell_type": "markdown",
   "metadata": {},
   "source": [
    "# Dual problems for inequality constraints\n",
    "\n",
    "In mathematical optimization, **duality** means we can solve a proxy problem (dual problem) to find solution close to the solution of the original (primal) problem. The difference between the primal and dual solution is called duality gap.\n",
    "\n",
    "When optimizing a function subject to inequality constraints, the usual approach is to use Karush–Kuhn–Tucker (KKT) multipliers to obtain the dual problem."
   ]
  },
  {
   "cell_type": "code",
   "execution_count": null,
   "metadata": {},
   "outputs": [],
   "source": [
    "# Let's define the example problem\n",
    "\n",
    "import altair as alt\n",
    "import numpy as np\n",
    "import pandas as pd\n",
    "\n",
    "x = np.linspace(-3, 3)\n",
    "y = np.polyval([1, 0, -3, 0], x)\n",
    "alt.Chart(pd.DataFrame(dict(x=x, y=y))).mark_line().encode(x='x', y='y')"
   ]
  },
  {
   "cell_type": "markdown",
   "metadata": {},
   "source": [
    "Let's say we want to maximize the above problem subject to x being smaller than some a.\n",
    "\n",
    "$$\n",
    "\\begin{aligned}\n",
    "\\underset{x}{\\text{maximize }} & f(x) = x^3 - 3x \\\\\n",
    "\\text{subject to } & x \\leq a\n",
    "\\end{aligned}\n",
    "$$\n",
    "\n",
    "The dual problem is\n",
    "\n",
    "$$\n",
    "\\begin{aligned}\n",
    "\\underset{x}{\\text{maximize }} & L(x) = x^3 - 3x + \\mu (a - x) \\\\\n",
    "\\text{subject to } & \\mu \\geq 0 \\\\\n",
    "& \\mu(a-x) = 0\n",
    "\\end{aligned}\n",
    "$$\n",
    "\n",
    "In this context, the conditions above are called *primal feasibility* ($x \\leq a$), *dual feasibility* ($\\mu \\geq 0$) and *complementary slackness* ($\\mu(a-x) = 0$).\n",
    "\n",
    "The last condition is especially interesting: it allows us to make a case-by-case analysis depending on the constraints. We can set $\\mu = 0$ and check for solutions of the primal problem. We can also set $a = x$ and obtain another possible solution if dual feasibility is given. This means we check both for optima of the primal satifying the constraints and for values of the primal under tight constraints. Note that in both cases $L(x) = f(x)$ so the duality gap is zero.\n",
    "\n",
    "We have another necessary condition: the one for local extrema\n",
    "\n",
    "$$\n",
    "3 x^2 - 3 - \\mu = 0\n",
    "$$\n",
    "\n",
    "* The candidates for $\\mu = 0$ are $x = -1$ and $L(x) = 2$ or $x = 1$ and $L(x) = -2$.\n",
    "* A tight constraint ($x = a$) means we should check the necessary lambda ($\\mu = 3a^2 - 3$). If it's non-negative, there's a candidate solution with a corresponding dual value.\n",
    "\n",
    "Here are the simplified cases:\n",
    "\n",
    "$$\n",
    "\\begin{aligned}\n",
    "L(x) = 2 &\\text{ and } x = -1, &\\text{s.t. } a \\geq -1 \\\\\n",
    "L(x) = a^3 - 3a &\\text{ and } x = a, &\\text{s.t. } 3a^2 - 3 \\geq 0\n",
    "\\end{aligned}\n",
    "$$\n",
    "\n",
    "#### Example: a = 2\n",
    "A tight constraint is feasible with $L(x) = 2$ and so is the primal solution. We have to solutions $x = 2$ and $x = -1$.\n",
    "\n",
    "#### Example: a = 3\n",
    "A tight constraint is feasible with $L(x) = 18$. The primal solution is feasible but not optimal.\n",
    "\n",
    "#### Example: a = $-\\frac{1}{2}$\n",
    "Tight constraint is not feasible. The only solution is $x = -1$\n",
    "\n",
    "#### Example: a $\\lt -1$\n",
    "A tight constraint is always feasible and the only solution.\n",
    "\n",
    "## Notes\n",
    "We generally express $l$ inequalities as the condition $h_j \\leq 0, j = (1, ..., l)$. Note that each inequality doubles the number of cases to be checked.\n",
    "\n",
    "There are two more KKT conditions to cover additional *equality* constraints. Check the [Wikipedia page](https://en.wikipedia.org/wiki/Karush%E2%80%93Kuhn%E2%80%93Tucker_conditions)."
   ]
  }
 ],
 "metadata": {
  "kernelspec": {
   "display_name": "Python 3",
   "language": "python",
   "name": "python3"
  },
  "language_info": {
   "codemirror_mode": {
    "name": "ipython",
    "version": 3
   },
   "file_extension": ".py",
   "mimetype": "text/x-python",
   "name": "python",
   "nbconvert_exporter": "python",
   "pygments_lexer": "ipython3",
   "version": "3.6.5"
  }
 },
 "nbformat": 4,
 "nbformat_minor": 2
}
